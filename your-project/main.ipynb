{
 "cells": [
  {
   "cell_type": "markdown",
   "metadata": {},
   "source": [
    "# Guess the game\n",
    "\n"
   ]
  },
  {
   "cell_type": "code",
   "execution_count": 2,
   "metadata": {},
   "outputs": [
    {
     "name": "stdout",
     "output_type": "stream",
     "text": [
      "Wellcome to the game.\n",
      "Do you want to play yourself or make the computer play?\n",
      "If you want to play yourself please input 1,\n",
      "if you would prefer the computer to play then press 22\n",
      "Set the lower limit of the game, this allows the computer to narrow it down-1000\n",
      "Set the higher limit of the game1000\n",
      "Enter a number between -1000 and 1000 for the computer to guess: 763\n",
      "Number picked, the computer will now try to guess:  763\n",
      "The computer has guessed: 0\n",
      "The computer has guessed: 500\n",
      "The computer has guessed: 750\n",
      "The computer has guessed: 875\n",
      "The computer has guessed: 813\n",
      "The computer has guessed: 782\n",
      "The computer has guessed: 766\n",
      "The computer has guessed: 758\n",
      "The computer has guessed: 762\n",
      "The computer has guessed: 764\n",
      "The computer guessed 763 and it was correct!\n"
     ]
    }
   ],
   "source": [
    "from binary_ag import main\n",
    "\n",
    "\n",
    "if __name__ == \"__main__\":\n",
    "     main()\n",
    "        "
   ]
  },
  {
   "cell_type": "code",
   "execution_count": null,
   "metadata": {},
   "outputs": [],
   "source": []
  },
  {
   "cell_type": "code",
   "execution_count": null,
   "metadata": {},
   "outputs": [],
   "source": []
  }
 ],
 "metadata": {
  "kernelspec": {
   "display_name": "Ironhack",
   "language": "python",
   "name": "ironhack"
  },
  "language_info": {
   "codemirror_mode": {
    "name": "ipython",
    "version": 3
   },
   "file_extension": ".py",
   "mimetype": "text/x-python",
   "name": "python",
   "nbconvert_exporter": "python",
   "pygments_lexer": "ipython3",
   "version": "3.9.0"
  }
 },
 "nbformat": 4,
 "nbformat_minor": 4
}
