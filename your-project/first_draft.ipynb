{
 "cells": [
  {
   "cell_type": "code",
   "execution_count": 4,
   "metadata": {},
   "outputs": [
    {
     "name": "stdout",
     "output_type": "stream",
     "text": [
      "<function core_game at 0x111aff1f0>\n"
     ]
    }
   ],
   "source": []
  },
  {
   "cell_type": "code",
   "execution_count": 59,
   "metadata": {},
   "outputs": [
    {
     "name": "stdout",
     "output_type": "stream",
     "text": [
      "3\n",
      "the game has started, your scoreboard is at 0\n",
      "Please enter your guess: 9\n",
      "Your guess is too high\n",
      "Please enter your guess: 5\n",
      "Your guess is too high\n",
      "Please enter your guess: 2\n",
      "Your guess is too low\n",
      "you guessed right! The secret number was:  3\n",
      "Please enter your guess: 3\n",
      "you guessed right! The secret number was:  3\n",
      "you guessed the number in 3 turns\n"
     ]
    }
   ],
   "source": [
    "import random\n",
    "\n",
    "random_number = random.randrange(-1, 9)\n",
    "\n",
    "print(random_number)\n",
    "try_counter = 0\n",
    "print(\"the game has started, your scoreboard is at\", try_counter)\n",
    "\n",
    "player_guess = 0\n",
    "\n",
    "while player_guess != random_number:\n",
    "    player_guess = int(input(\"Please enter your guess: \"))\n",
    "    if player_guess < random_number:\n",
    "        print(\"Your guess is too low\")\n",
    "        try_counter = try_counter + 1 \n",
    "    if player_guess > random_number:\n",
    "        print(\"Your guess is too high\")\n",
    "        try_counter = try_counter + 1 \n",
    "    else:\n",
    "        print(\"you guessed right! The secret number was: \", random_number)\n",
    "        \n",
    "print(\"you guessed the number in\", try_counter, \"turns\")\n",
    "\n",
    "\n",
    "\n"
   ]
  },
  {
   "cell_type": "code",
   "execution_count": 3,
   "metadata": {},
   "outputs": [
    {
     "name": "stdout",
     "output_type": "stream",
     "text": [
      "7\n",
      "the game has started, your scoreboard is at 0\n",
      "Please enter your guess: 7\n",
      "you guessed right! The secret number was:  7\n",
      "you guessed the number in 0 turns\n"
     ]
    }
   ],
   "source": [
    "def game():\n",
    "    import random\n",
    "    random_number = random.randrange(-1, 9)\n",
    "    print(random_number)\n",
    "    try_counter = 0\n",
    "    print(\"the game has started, your scoreboard is at\", try_counter)\n",
    "    player_guess = 0\n",
    "    while player_guess != random_number:\n",
    "        player_guess = int(input(\"Please enter your guess: \"))\n",
    "        if player_guess < random_number:\n",
    "            print(\"Your guess is too low\")\n",
    "            try_counter = try_counter + 1 \n",
    "        if player_guess > random_number:\n",
    "            print(\"Your guess is too high\")\n",
    "            try_counter = try_counter + 1 \n",
    "        else:\n",
    "            print(\"you guessed right! The secret number was: \", random_number)\n",
    "        \n",
    "    final_result = print(\"you guessed the number in\", try_counter, \"turns\")    \n",
    "\n",
    "    return final_result\n",
    "\n",
    "game()"
   ]
  },
  {
   "cell_type": "code",
   "execution_count": null,
   "metadata": {},
   "outputs": [],
   "source": [
    "def play_guess(guess, answer):\n",
    "    if guess < answer:\n",
    "        return -1\n",
    "    elif guess > answer:\n",
    "        return 1\n",
    "    else:\n",
    "        return 0"
   ]
  },
  {
   "cell_type": "code",
   "execution_count": 19,
   "metadata": {},
   "outputs": [
    {
     "ename": "TypeError",
     "evalue": "game() missing 2 required positional arguments: 'guess' and 'answer'",
     "output_type": "error",
     "traceback": [
      "\u001b[0;31m---------------------------------------------------------------------------\u001b[0m",
      "\u001b[0;31mTypeError\u001b[0m                                 Traceback (most recent call last)",
      "\u001b[0;32m<ipython-input-19-c4fdf278a331>\u001b[0m in \u001b[0;36m<module>\u001b[0;34m\u001b[0m\n\u001b[1;32m     23\u001b[0m     \u001b[0;32mreturn\u001b[0m \u001b[0mfinal_result\u001b[0m\u001b[0;34m\u001b[0m\u001b[0;34m\u001b[0m\u001b[0m\n\u001b[1;32m     24\u001b[0m \u001b[0;34m\u001b[0m\u001b[0m\n\u001b[0;32m---> 25\u001b[0;31m \u001b[0mgame\u001b[0m\u001b[0;34m(\u001b[0m\u001b[0;34m)\u001b[0m\u001b[0;34m\u001b[0m\u001b[0;34m\u001b[0m\u001b[0m\n\u001b[0m\u001b[1;32m     26\u001b[0m \u001b[0;34m\u001b[0m\u001b[0m\n",
      "\u001b[0;31mTypeError\u001b[0m: game() missing 2 required positional arguments: 'guess' and 'answer'"
     ]
    }
   ],
   "source": [
    "def game(guess, answer):\n",
    "    import random\n",
    "    random_number = random.randrange(-10, 10)\n",
    "    try_counter = 0\n",
    "    print(\"the game has started, your scoreboard is at\", try_counter)\n",
    "    player_guess = 0\n",
    "    \n",
    "    while guess != answer:\n",
    "        \n",
    "        player_guess = int(input(\"Please enter your guess: \"))\n",
    "        \n",
    "        if player_guess(-1):\n",
    "            print(\"Your guess is too low\")\n",
    "            try_counter = try_counter + 1 \n",
    "        elif player_guess(1):\n",
    "            print(\"Your guess is too high\")\n",
    "            try_counter = try_counter + 1 \n",
    "        else:\n",
    "            print(\"you guessed right! The secret number was: \", random_number)\n",
    "        \n",
    "    final_result = print(\"you guessed the number in\", try_counter, \"turns\")    \n",
    "\n",
    "    return final_result\n",
    "\n",
    "game()\n",
    "\n"
   ]
  },
  {
   "cell_type": "code",
   "execution_count": 4,
   "metadata": {},
   "outputs": [
    {
     "name": "stdout",
     "output_type": "stream",
     "text": [
      "0\n",
      "the game has started, your scoreboard is at 0\n"
     ]
    },
    {
     "ename": "NameError",
     "evalue": "name 'cpu_guess' is not defined",
     "output_type": "error",
     "traceback": [
      "\u001b[0;31m---------------------------------------------------------------------------\u001b[0m",
      "\u001b[0;31mNameError\u001b[0m                                 Traceback (most recent call last)",
      "\u001b[0;32m<ipython-input-4-65a2086509f8>\u001b[0m in \u001b[0;36m<module>\u001b[0;34m\u001b[0m\n\u001b[1;32m     24\u001b[0m     \u001b[0;32mreturn\u001b[0m\u001b[0;34m(\u001b[0m\u001b[0mtry_counter\u001b[0m\u001b[0;34m)\u001b[0m\u001b[0;34m\u001b[0m\u001b[0;34m\u001b[0m\u001b[0m\n\u001b[1;32m     25\u001b[0m \u001b[0;34m\u001b[0m\u001b[0m\n\u001b[0;32m---> 26\u001b[0;31m \u001b[0mprint\u001b[0m\u001b[0;34m(\u001b[0m\u001b[0mcpu_plays_the_game\u001b[0m\u001b[0;34m(\u001b[0m\u001b[0mrandom_number\u001b[0m\u001b[0;34m)\u001b[0m\u001b[0;34m)\u001b[0m\u001b[0;34m\u001b[0m\u001b[0;34m\u001b[0m\u001b[0m\n\u001b[0m",
      "\u001b[0;32m<ipython-input-4-65a2086509f8>\u001b[0m in \u001b[0;36mcpu_plays_the_game\u001b[0;34m(random_number1)\u001b[0m\n\u001b[1;32m     12\u001b[0m \u001b[0;34m\u001b[0m\u001b[0m\n\u001b[1;32m     13\u001b[0m     \u001b[0mtry_counter\u001b[0m \u001b[0;34m=\u001b[0m \u001b[0;36m0\u001b[0m\u001b[0;34m\u001b[0m\u001b[0;34m\u001b[0m\u001b[0m\n\u001b[0;32m---> 14\u001b[0;31m     \u001b[0;32mwhile\u001b[0m \u001b[0mcpu_guess\u001b[0m \u001b[0;34m!=\u001b[0m \u001b[0mrandom_number1\u001b[0m\u001b[0;34m:\u001b[0m\u001b[0;34m\u001b[0m\u001b[0;34m\u001b[0m\u001b[0m\n\u001b[0m\u001b[1;32m     15\u001b[0m         \u001b[0;32mif\u001b[0m \u001b[0mcpu_guess\u001b[0m\u001b[0;34m(\u001b[0m\u001b[0;34m-\u001b[0m\u001b[0;36m1\u001b[0m\u001b[0;34m)\u001b[0m\u001b[0;34m:\u001b[0m\u001b[0;34m\u001b[0m\u001b[0;34m\u001b[0m\u001b[0m\n\u001b[1;32m     16\u001b[0m             \u001b[0mtry_counter\u001b[0m \u001b[0;34m=\u001b[0m \u001b[0mtry_counter\u001b[0m \u001b[0;34m+\u001b[0m \u001b[0;36m1\u001b[0m\u001b[0;34m\u001b[0m\u001b[0;34m\u001b[0m\u001b[0m\n",
      "\u001b[0;31mNameError\u001b[0m: name 'cpu_guess' is not defined"
     ]
    }
   ],
   "source": [
    "import random\n",
    "\n",
    "# random_number = random.randrange(-1, 9)\n",
    "random_number = 0\n",
    "\n",
    "print(random_number)\n",
    "try_counter = 0\n",
    "print(\"the game has started, your scoreboard is at\", try_counter)\n",
    "\n",
    "def cpu_plays_the_game(random_number1):\n",
    "    \n",
    "    try_counter = 0\n",
    "    while cpu_guess != random_number1:\n",
    "        if cpu_guess(-1):\n",
    "            try_counter = try_counter + 1 \n",
    "            print(\"the computer guessed below\")\n",
    "        elif cpu_guess(1):\n",
    "            try_counter = try_counter + 1 \n",
    "            print(\"the computer has guessed too high\")\n",
    "        else:\n",
    "            print(\"the computer has guessed right, the secret number was \", random_number1, \"it only took it \", try_counter, \" tries\")\n",
    "\n",
    "    return(try_counter)\n",
    "\n",
    "print(cpu_plays_the_game(random_number))"
   ]
  },
  {
   "cell_type": "code",
   "execution_count": 30,
   "metadata": {},
   "outputs": [
    {
     "name": "stdout",
     "output_type": "stream",
     "text": [
      "what minimun value would you like to set? negatinve numbers are allowed-100\n",
      "what maximun value would you like to set?100\n"
     ]
    },
    {
     "data": {
      "text/plain": [
       "[-100, 100]"
      ]
     },
     "execution_count": 30,
     "metadata": {},
     "output_type": "execute_result"
    }
   ],
   "source": [
    "def range_setter():\n",
    "    range_of_game = []\n",
    "    lower_range = int(input(\"what minimun value would you like to set? negatinve numbers are allowed\"))\n",
    "    higher_range = int(input(\"what maximun value would you like to set?\"))\n",
    "    range_of_game.append(lower_range)\n",
    "    range_of_game.append(higher_range)\n",
    "    return range_of_game\n",
    "\n",
    "range_setter()"
   ]
  },
  {
   "cell_type": "code",
   "execution_count": null,
   "metadata": {},
   "outputs": [],
   "source": []
  },
  {
   "cell_type": "code",
   "execution_count": null,
   "metadata": {},
   "outputs": [],
   "source": [
    "def cpu_function_range():\n",
    "    list_of_range = []\n",
    "    for number in range(1, 1001):\n",
    "        list_of_range.append(number)\n",
    "    return list_of_range\n",
    "\n"
   ]
  },
  {
   "cell_type": "code",
   "execution_count": 44,
   "metadata": {},
   "outputs": [
    {
     "name": "stdout",
     "output_type": "stream",
     "text": [
      "Enter a number between 0 and 1000 for the computer to guess: 123\n",
      "Number picked, the computer will now try to guess 123\n"
     ]
    },
    {
     "data": {
      "text/plain": [
       "123"
      ]
     },
     "execution_count": 44,
     "metadata": {},
     "output_type": "execute_result"
    }
   ],
   "source": [
    "def cpu_game_choice():\n",
    "    num = int(input(\"Enter a number between 0 and 1000 for the computer to guess: \"))\n",
    "    if num < 1:\n",
    "        print(\"Must be in range [1, 1000], please stick to the range im already having a hard enough time\")\n",
    "        cpu_game_choice()\n",
    "        \n",
    "    elif num > 1000:\n",
    "        print(\"Must be in range [1, 1000], please stick to the range im already having a hard enough time\")\n",
    "        cpu_game_choice()\n",
    "    \n",
    "    else:\n",
    "        print(\"Number picked, the computer will now try to guess\", num)\n",
    "        return num\n",
    "\n",
    "cpu_game_choice()\n"
   ]
  },
  {
   "cell_type": "code",
   "execution_count": 48,
   "metadata": {},
   "outputs": [
    {
     "name": "stdout",
     "output_type": "stream",
     "text": [
      "Enter a number between 0 and 1000 for the computer to guess: 33333\n",
      "Must be in range [1, 1000], please stick to the range im already having a hard enough time\n",
      "Enter a number between 0 and 1000 for the computer to guess: 3333\n",
      "Must be in range [1, 1000], please stick to the range im already having a hard enough time\n",
      "Enter a number between 0 and 1000 for the computer to guess: 33\n",
      "Number picked, the computer will now try to guess 33\n",
      "The computer takes a guess... 500\n"
     ]
    },
    {
     "ename": "TypeError",
     "evalue": "'>' not supported between instances of 'int' and 'NoneType'",
     "output_type": "error",
     "traceback": [
      "\u001b[0;31m---------------------------------------------------------------------------\u001b[0m",
      "\u001b[0;31mTypeError\u001b[0m                                 Traceback (most recent call last)",
      "\u001b[0;32m<ipython-input-48-a8255b2cdaca>\u001b[0m in \u001b[0;36m<module>\u001b[0;34m\u001b[0m\n\u001b[1;32m     13\u001b[0m     \u001b[0mprint\u001b[0m\u001b[0;34m(\u001b[0m\u001b[0;34m\"The computer guessed\"\u001b[0m\u001b[0;34m,\u001b[0m \u001b[0mguess\u001b[0m\u001b[0;34m,\u001b[0m \u001b[0;34m\"and it was correct!\"\u001b[0m\u001b[0;34m)\u001b[0m\u001b[0;34m\u001b[0m\u001b[0;34m\u001b[0m\u001b[0m\n\u001b[1;32m     14\u001b[0m \u001b[0;34m\u001b[0m\u001b[0m\n\u001b[0;32m---> 15\u001b[0;31m \u001b[0mcomputer_guess\u001b[0m\u001b[0;34m(\u001b[0m\u001b[0mcpu_game_choice\u001b[0m\u001b[0;34m(\u001b[0m\u001b[0;34m)\u001b[0m\u001b[0;34m,\u001b[0m \u001b[0mcpu_function_range\u001b[0m\u001b[0;34m(\u001b[0m\u001b[0;34m)\u001b[0m\u001b[0;34m)\u001b[0m\u001b[0;34m\u001b[0m\u001b[0;34m\u001b[0m\u001b[0m\n\u001b[0m",
      "\u001b[0;32m<ipython-input-48-a8255b2cdaca>\u001b[0m in \u001b[0;36mcomputer_guess\u001b[0;34m(num, list_of_range)\u001b[0m\n\u001b[1;32m      6\u001b[0m         \u001b[0mguess\u001b[0m \u001b[0;34m=\u001b[0m \u001b[0;34m(\u001b[0m\u001b[0mlow\u001b[0m\u001b[0;34m+\u001b[0m\u001b[0mhigh\u001b[0m\u001b[0;34m)\u001b[0m\u001b[0;34m//\u001b[0m\u001b[0;36m2\u001b[0m\u001b[0;34m\u001b[0m\u001b[0;34m\u001b[0m\u001b[0m\n\u001b[1;32m      7\u001b[0m         \u001b[0mprint\u001b[0m\u001b[0;34m(\u001b[0m\u001b[0;34m\"The computer takes a guess...\"\u001b[0m\u001b[0;34m,\u001b[0m \u001b[0mguess\u001b[0m\u001b[0;34m)\u001b[0m\u001b[0;34m\u001b[0m\u001b[0;34m\u001b[0m\u001b[0m\n\u001b[0;32m----> 8\u001b[0;31m         \u001b[0;32mif\u001b[0m \u001b[0mguess\u001b[0m \u001b[0;34m>\u001b[0m \u001b[0mnum\u001b[0m\u001b[0;34m:\u001b[0m\u001b[0;34m\u001b[0m\u001b[0;34m\u001b[0m\u001b[0m\n\u001b[0m\u001b[1;32m      9\u001b[0m             \u001b[0mhigh\u001b[0m \u001b[0;34m=\u001b[0m \u001b[0mguess\u001b[0m\u001b[0;34m\u001b[0m\u001b[0;34m\u001b[0m\u001b[0m\n\u001b[1;32m     10\u001b[0m         \u001b[0;32melif\u001b[0m \u001b[0mguess\u001b[0m \u001b[0;34m<\u001b[0m \u001b[0mnum\u001b[0m\u001b[0;34m:\u001b[0m\u001b[0;34m\u001b[0m\u001b[0;34m\u001b[0m\u001b[0m\n",
      "\u001b[0;31mTypeError\u001b[0m: '>' not supported between instances of 'int' and 'NoneType'"
     ]
    }
   ],
   "source": [
    "def computer_guess(num, list_of_range):\n",
    "    low = 1\n",
    "    high = len(list_of_range)\n",
    "    guess = len(list_of_range) //2\n",
    "    while guess != num:\n",
    "        guess = (low+high)//2\n",
    "        print(\"The computer guessed\", guess)\n",
    "        if guess > num:\n",
    "            high = guess\n",
    "        elif guess < num:\n",
    "            low = guess + 1\n",
    "\n",
    "    print(\"The computer guessed\", guess, \"and it was correct!\")\n",
    "\n",
    "computer_guess(cpu_game_choice(), cpu_function_range())"
   ]
  },
  {
   "cell_type": "code",
   "execution_count": 58,
   "metadata": {},
   "outputs": [
    {
     "ename": "IndentationError",
     "evalue": "unexpected unindent (<ipython-input-58-3304a6a22f54>, line 18)",
     "output_type": "error",
     "traceback": [
      "\u001b[0;36m  File \u001b[0;32m\"<ipython-input-58-3304a6a22f54>\"\u001b[0;36m, line \u001b[0;32m18\u001b[0m\n\u001b[0;31m    cpu_game_choice_2()(\u001b[0m\n\u001b[0m                        ^\u001b[0m\n\u001b[0;31mIndentationError\u001b[0m\u001b[0;31m:\u001b[0m unexpected unindent\n"
     ]
    }
   ],
   "source": [
    "\n",
    "\n",
    "def cpu_game_choice_2():\n",
    "    while True:\n",
    "        try:\n",
    "            num = int(input(\"Enter a number between 0 and 1000 for the computer to guess: \"))\n",
    "            if num < 1:\n",
    "                print(\"Must be in range [1, 1000], please stick to the range im already having a hard enough time\")\n",
    "                cpu_game_choice()\n",
    "        \n",
    "            elif num > 1000:\n",
    "                print(\"Must be in range [1, 1000], please stick to the range im already having a hard enough time\")\n",
    "                cpu_game_choice()\n",
    "    \n",
    "            else:\n",
    "                print(\"Number picked, the computer will now try to guess\", num)\n",
    "                return num\n",
    "\n",
    "            \n",
    "cpu_game_choice_2()\n"
   ]
  },
  {
   "cell_type": "code",
   "execution_count": null,
   "metadata": {},
   "outputs": [],
   "source": []
  }
 ],
 "metadata": {
  "kernelspec": {
   "display_name": "Ironhack",
   "language": "python",
   "name": "ironhack"
  },
  "language_info": {
   "codemirror_mode": {
    "name": "ipython",
    "version": 3
   },
   "file_extension": ".py",
   "mimetype": "text/x-python",
   "name": "python",
   "nbconvert_exporter": "python",
   "pygments_lexer": "ipython3",
   "version": "3.9.0"
  }
 },
 "nbformat": 4,
 "nbformat_minor": 4
}
