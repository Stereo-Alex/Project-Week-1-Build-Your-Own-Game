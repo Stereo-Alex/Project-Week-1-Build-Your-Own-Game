{
 "cells": [
  {
   "cell_type": "code",
   "execution_count": 4,
   "metadata": {},
   "outputs": [
    {
     "name": "stdout",
     "output_type": "stream",
     "text": [
      "<function core_game at 0x111aff1f0>\n"
     ]
    }
   ],
   "source": []
  },
  {
   "cell_type": "code",
   "execution_count": 14,
   "metadata": {},
   "outputs": [
    {
     "name": "stdout",
     "output_type": "stream",
     "text": [
      "7\n",
      "the game has started, your scoreboard is at 0\n",
      "Please enter your guess: 4\n",
      "Your guess is too low\n",
      "you guessed right! The secret number was:  7\n",
      "Please enter your guess: 8\n",
      "Your guess is too high\n",
      "Please enter your guess: 7\n",
      "you guessed right! The secret number was:  7\n",
      "you guessed the number in 2\n"
     ]
    }
   ],
   "source": [
    "import random\n",
    "\n",
    "random_number = random.randrange(-1, 9)\n",
    "\n",
    "print(random_number)\n",
    "try_counter = 0\n",
    "print(\"the game has started, your scoreboard is at\", try_counter)\n",
    "\n",
    "player_guess = 0\n",
    "\n",
    "while player_guess != random_number:\n",
    "    player_guess = int(input(\"Please enter your guess: \"))\n",
    "    if player_guess < random_number:\n",
    "        print(\"Your guess is too low\")\n",
    "        try_counter = try_counter + 1 \n",
    "    if player_guess > random_number:\n",
    "        print(\"Your guess is too high\")\n",
    "        try_counter = try_counter + 1 \n",
    "    else:\n",
    "        print(\"you guessed right! The secret number was: \", random_number)\n",
    "        \n",
    "print(\"you guessed the number in\", try_counter, \"turns\")\n",
    "\n",
    "\n",
    "\n"
   ]
  },
  {
   "cell_type": "code",
   "execution_count": null,
   "metadata": {},
   "outputs": [],
   "source": [
    "def game():\n",
    "    import random\n",
    "    random_number = random.randrange(-1, 9)\n",
    "    print(random_number)\n",
    "    try_counter = 0\n",
    "    print(\"the game has started, your scoreboard is at\", try_counter)\n",
    "    player_guess = 0\n",
    "    while player_guess != random_number:\n",
    "        player_guess = int(input(\"Please enter your guess: \"))\n",
    "        if player_guess < random_number:\n",
    "            print(\"Your guess is too low\")\n",
    "            try_counter = try_counter + 1 \n",
    "        if player_guess > random_number:\n",
    "            print(\"Your guess is too high\")\n",
    "            try_counter = try_counter + 1 \n",
    "        else:\n",
    "            print(\"you guessed right! The secret number was: \", random_number)\n",
    "        \n",
    "    final_result = print(\"you guessed the number in\", try_counter, \"turns\")    \n",
    "\n",
    "    return final_result\n",
    "\n",
    "game()"
   ]
  },
  {
   "cell_type": "code",
   "execution_count": null,
   "metadata": {},
   "outputs": [],
   "source": []
  }
 ],
 "metadata": {
  "kernelspec": {
   "display_name": "Ironhack",
   "language": "python",
   "name": "ironhack"
  },
  "language_info": {
   "codemirror_mode": {
    "name": "ipython",
    "version": 3
   },
   "file_extension": ".py",
   "mimetype": "text/x-python",
   "name": "python",
   "nbconvert_exporter": "python",
   "pygments_lexer": "ipython3",
   "version": "3.9.0"
  }
 },
 "nbformat": 4,
 "nbformat_minor": 4
}
