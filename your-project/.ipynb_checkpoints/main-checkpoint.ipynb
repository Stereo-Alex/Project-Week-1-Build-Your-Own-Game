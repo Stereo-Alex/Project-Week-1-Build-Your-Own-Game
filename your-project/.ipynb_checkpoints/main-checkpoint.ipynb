{
 "cells": [
  {
   "cell_type": "code",
   "execution_count": 10,
   "metadata": {},
   "outputs": [],
   "source": [
    "from binary_ag import cpu_function_range\n",
    "from binary_ag import cpu_game_choice\n",
    "from binary_ag import computer_guesses\n",
    "from binary_ag import print_guesses\n",
    "from binary_ag import cpu_function_range_2\n",
    "from binary_ag import player_game\n",
    "from binary_ag import main\n"
   ]
  },
  {
   "cell_type": "code",
   "execution_count": 16,
   "metadata": {},
   "outputs": [
    {
     "name": "stdout",
     "output_type": "stream",
     "text": [
      "Wellcome to the game,\n",
      "do you want to play yourself or make the computer play?\n",
      "If you want to play yourself please input 1,\n",
      "if you would prefer the computer to play then press 22\n",
      "Set the lower limit of the game, this gives the computer a chance to narrow it down-1000000\n",
      "Set the higher limit of the game10000000\n",
      "Enter a number between -1000000 and 10000000 for the computer to guess: 234863\n",
      "Number picked, the computer will now try to guess 234863\n",
      "The computer has guessed: 4500000\n",
      "The computer has guessed: 1750000\n",
      "The computer has guessed: 375000\n",
      "The computer has guessed: -312500\n",
      "The computer has guessed: 31250\n",
      "The computer has guessed: 203125\n",
      "The computer has guessed: 289063\n",
      "The computer has guessed: 246094\n",
      "The computer has guessed: 224610\n",
      "The computer has guessed: 235352\n",
      "The computer has guessed: 229981\n",
      "The computer has guessed: 232667\n",
      "The computer has guessed: 234010\n",
      "The computer has guessed: 234681\n",
      "The computer has guessed: 235017\n",
      "The computer has guessed: 234849\n",
      "The computer has guessed: 234933\n",
      "The computer has guessed: 234891\n",
      "The computer has guessed: 234870\n",
      "The computer has guessed: 234860\n",
      "The computer has guessed: 234865\n",
      "The computer guessed 234863 and it was correct!\n"
     ]
    }
   ],
   "source": [
    "if __name__ == \"__main__\":\n",
    "     main()\n",
    "        "
   ]
  },
  {
   "cell_type": "code",
   "execution_count": null,
   "metadata": {},
   "outputs": [],
   "source": []
  },
  {
   "cell_type": "code",
   "execution_count": null,
   "metadata": {},
   "outputs": [],
   "source": []
  }
 ],
 "metadata": {
  "kernelspec": {
   "display_name": "Ironhack",
   "language": "python",
   "name": "ironhack"
  },
  "language_info": {
   "codemirror_mode": {
    "name": "ipython",
    "version": 3
   },
   "file_extension": ".py",
   "mimetype": "text/x-python",
   "name": "python",
   "nbconvert_exporter": "python",
   "pygments_lexer": "ipython3",
   "version": "3.9.0"
  }
 },
 "nbformat": 4,
 "nbformat_minor": 4
}
